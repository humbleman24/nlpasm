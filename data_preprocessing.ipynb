{
 "cells": [
  {
   "cell_type": "code",
   "execution_count": 1,
   "metadata": {},
   "outputs": [],
   "source": [
    "import json\n",
    "import glob\n",
    "from collections import namedtuple"
   ]
  },
  {
   "cell_type": "code",
   "execution_count": 2,
   "metadata": {},
   "outputs": [
    {
     "data": {
      "text/plain": [
       "(10, 10)"
      ]
     },
     "execution_count": 2,
     "metadata": {},
     "output_type": "execute_result"
    }
   ],
   "source": [
    "dataset_dir = 'D:/info/program/NLP/asm/dataset/'\n",
    "\n",
    "train_list = glob.glob(dataset_dir + 'train*.json')\n",
    "val_list = glob.glob(dataset_dir + 'val*.json')\n",
    "len(train_list), len(val_list)"
   ]
  },
  {
   "cell_type": "code",
   "execution_count": 24,
   "metadata": {},
   "outputs": [
    {
     "data": {
      "text/plain": [
       "'10'"
      ]
     },
     "execution_count": 24,
     "metadata": {},
     "output_type": "execute_result"
    }
   ],
   "source": [
    "train_list[1].split('.')[0].split('_')[2]"
   ]
  },
  {
   "cell_type": "code",
   "execution_count": 4,
   "metadata": {},
   "outputs": [],
   "source": [
    "INSTRUCTION = '解释一下下面的句子，仅从字面意思理解'\n",
    "data_element = namedtuple(\n",
    "    \"data_element\",\n",
    "    ['instruction', 'input', 'output']\n",
    ")"
   ]
  },
  {
   "cell_type": "code",
   "execution_count": 5,
   "metadata": {},
   "outputs": [],
   "source": [
    "def read_json(file_path):\n",
    "    with open(file_path, 'r') as f:\n",
    "        complete_content = json.load(f)\n",
    "    return complete_content"
   ]
  },
  {
   "cell_type": "code",
   "execution_count": 33,
   "metadata": {},
   "outputs": [],
   "source": [
    "def construct_dataset(file_name, data_list):\n",
    "    complete_content = read_json(file_name)\n",
    "    for element in complete_content:\n",
    "        input_data = element['original_data']\n",
    "        for key, value in element.items():\n",
    "            if key != 'data_id' and key != 'original_data':\n",
    "                data_dict = {'instruction' : INSTRUCTION,\n",
    "                            'input' : input_data,\n",
    "                            'output' : value}\n",
    "                data_list.append(data_dict)\n"
   ]
  },
  {
   "cell_type": "code",
   "execution_count": null,
   "metadata": {},
   "outputs": [],
   "source": []
  },
  {
   "cell_type": "code",
   "execution_count": 36,
   "metadata": {},
   "outputs": [],
   "source": [
    "def construct_dataset(file_name, data_list):\n",
    "    complete_content = read_json(file_name)\n",
    "    for element in complete_content:\n",
    "        input_data = element['original_data']\n",
    "        for key, value in element.items():\n",
    "            if key != 'data_id' and key != 'original_data':\n",
    "                data_dict = {'instruction' : input_data,\n",
    "                            'output' : value}\n",
    "                data_list.append(data_dict)\n"
   ]
  },
  {
   "cell_type": "code",
   "execution_count": 31,
   "metadata": {},
   "outputs": [
    {
     "data": {
      "text/plain": [
       "['D:/info/program/NLP/asm/dataset\\\\val_fold_1.json',\n",
       " 'D:/info/program/NLP/asm/dataset\\\\val_fold_10.json',\n",
       " 'D:/info/program/NLP/asm/dataset\\\\val_fold_2.json',\n",
       " 'D:/info/program/NLP/asm/dataset\\\\val_fold_3.json',\n",
       " 'D:/info/program/NLP/asm/dataset\\\\val_fold_4.json',\n",
       " 'D:/info/program/NLP/asm/dataset\\\\val_fold_5.json',\n",
       " 'D:/info/program/NLP/asm/dataset\\\\val_fold_6.json',\n",
       " 'D:/info/program/NLP/asm/dataset\\\\val_fold_7.json',\n",
       " 'D:/info/program/NLP/asm/dataset\\\\val_fold_8.json',\n",
       " 'D:/info/program/NLP/asm/dataset\\\\val_fold_9.json']"
      ]
     },
     "execution_count": 31,
     "metadata": {},
     "output_type": "execute_result"
    }
   ],
   "source": [
    "val_list"
   ]
  },
  {
   "cell_type": "code",
   "execution_count": 38,
   "metadata": {},
   "outputs": [],
   "source": [
    "import random\n",
    "for index, file_name in enumerate(val_list):\n",
    "    index = int(file_name.split('.')[0].split('_')[2])\n",
    "    train_dataset_list = []\n",
    "    construct_dataset(file_name, train_dataset_list)\n",
    "    # construct_dataset(f\"D:/info/program/NLP/asm/dataset\\\\val_fold_{index}.json\", train_dataset_list)\n",
    "    random.shuffle(train_dataset_list)\n",
    "    with open('data/val_{}.json'.format(index), 'w', encoding='utf-8') as f:\n",
    "        json.dump(train_dataset_list, f, ensure_ascii=False, indent=4)"
   ]
  },
  {
   "cell_type": "code",
   "execution_count": 17,
   "metadata": {},
   "outputs": [],
   "source": [
    "train1, train2 = train_list[:2]\n",
    "val1, val2 = train_list[:2]\n",
    "\n",
    "d = dict()\n",
    "complete_content = read_json(train1)\n",
    "for element in complete_content:\n",
    "    d.setdefault(element[\"data_id\"], [0])[0] += 1\n",
    "\n",
    "complete_content = read_json(val1)\n",
    "for element in complete_content:\n",
    "    d.setdefault(element[\"data_id\"], [0])[0] += 1\n",
    "\n",
    "complete_content = read_json(train2)\n",
    "for element in complete_content:\n",
    "    d.setdefault(element[\"data_id\"], [0])[0] += 1\n",
    "\n",
    "complete_content = read_json(val2)\n",
    "for element in complete_content:\n",
    "    d.setdefault(element[\"data_id\"], [0])[0] += 1\n",
    "\n",
    "out = [x for x, y in d.items() if x == 1]\n"
   ]
  },
  {
   "cell_type": "code",
   "execution_count": null,
   "metadata": {},
   "outputs": [],
   "source": []
  },
  {
   "cell_type": "code",
   "execution_count": null,
   "metadata": {},
   "outputs": [],
   "source": []
  }
 ],
 "metadata": {
  "kernelspec": {
   "display_name": "nlpasm",
   "language": "python",
   "name": "python3"
  },
  "language_info": {
   "codemirror_mode": {
    "name": "ipython",
    "version": 3
   },
   "file_extension": ".py",
   "mimetype": "text/x-python",
   "name": "python",
   "nbconvert_exporter": "python",
   "pygments_lexer": "ipython3",
   "version": "undefined.undefined.undefined"
  }
 },
 "nbformat": 4,
 "nbformat_minor": 2
}
