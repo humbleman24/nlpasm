{
 "cells": [
  {
   "cell_type": "code",
   "execution_count": 2,
   "metadata": {},
   "outputs": [],
   "source": [
    "import transformers"
   ]
  },
  {
   "cell_type": "code",
   "execution_count": 1,
   "metadata": {},
   "outputs": [
    {
     "name": "stderr",
     "output_type": "stream",
     "text": [
      "c:\\Users\\17539\\anaconda3\\envs\\nlpasm\\lib\\site-packages\\tqdm\\auto.py:21: TqdmWarning: IProgress not found. Please update jupyter and ipywidgets. See https://ipywidgets.readthedocs.io/en/stable/user_install.html\n",
      "  from .autonotebook import tqdm as notebook_tqdm\n"
     ]
    }
   ],
   "source": [
    "from transformers import AutoModelForCausalLM, AutoTokenizer"
   ]
  },
  {
   "cell_type": "code",
   "execution_count": 3,
   "metadata": {},
   "outputs": [
    {
     "name": "stderr",
     "output_type": "stream",
     "text": [
      "Loading checkpoint shards: 100%|██████████| 4/4 [00:00<00:00,  5.41it/s]\n"
     ]
    }
   ],
   "source": [
    "model_name = \"D:/models/Qwen2.5-7B-Instruct\"\n",
    "\n",
    "# 创建模型实例\n",
    "model = AutoModelForCausalLM.from_pretrained(\n",
    "    model_name,\n",
    "    torch_dtype=\"auto\",\n",
    "    device_map=\"auto\"\n",
    ")\n",
    "\n",
    "# 取出对应的模型词嵌入\n",
    "tokenizer = AutoTokenizer.from_pretrained(model_name)"
   ]
  },
  {
   "cell_type": "code",
   "execution_count": 4,
   "metadata": {},
   "outputs": [
    {
     "name": "stderr",
     "output_type": "stream",
     "text": [
      "Starting from v4.46, the `logits` model output will have the same type as the model (except at train time, where it will always be FP32)\n"
     ]
    },
    {
     "data": {
      "text/plain": [
       "'当然可以！大模型（也称为大规模预训练模型）是指参数量非常大的机器学习模型，通常包含数亿甚至数十亿个参数。这些模型通过在大量未标注的数据上进行预训练，然后通过少量标注数据进行微调，来完成各种自然语言处理任务。\\n\\n大模型的主要特点包括：\\n\\n1. **大规模参数**：参数量巨大，这使得模型能够捕捉到更复杂的特征和模式。\\n2. **预训练-微调机制**：首先在大量的文本数据上进行预训练，然后根据具体任务进行微调。\\n3. **泛化能力**：由于训练数据量大且多样，大模型通常具有较强的泛化能力，可以在多种下游任务中表现出色。\\n4. **多任务处理**：经过适当微调后，大模型可以用于多种不同的自然语言处理任务，如文本分类、情感分析、机器翻译等。\\n\\n目前，一些知名的大型语言模型包括谷歌的BERT、Transformer系列模型、阿里巴巴的M6等。这些模型在学术界和工业界都有广泛的应用，并推动了自然语言处理领域的发展。'"
      ]
     },
     "execution_count": 4,
     "metadata": {},
     "output_type": "execute_result"
    }
   ],
   "source": [
    "prompt = \"给我一个大模型的简单介绍\"\n",
    "messages = [\n",
    "    {\"role\": \"system\", \"content\": \"你是通译千问，由阿里云团队研发。 你现在是一个聊天助手\"},\n",
    "    {\"role\": \"user\", \"content\": prompt},\n",
    "]\n",
    "\n",
    "# 对prompt的内容进行切分\n",
    "text = tokenizer.apply_chat_template(\n",
    "    messages,\n",
    "    tokenize=False,\n",
    "    add_generation_prompt=True,\n",
    ")\n",
    "\n",
    "# 转换为pytorch的tensor\n",
    "model_inputs = tokenizer([text], return_tensors=\"pt\").to(model.device)\n",
    "\n",
    "# 将输入进模型进行推理\n",
    "generated_ids = model.generate(\n",
    "    **model_inputs,\n",
    "    max_new_tokens=512,\n",
    ")\n",
    "\n",
    "# 将input与generated_output进行拼接，然后取出输出，从input长度的后面开始取起\n",
    "generated_ids = [\n",
    "    output_ids[len(input_ids):] for input_ids, output_ids in zip(model_inputs.input_ids, generated_ids)\n",
    "]\n",
    "\n",
    "# 再使用tokenizer进行decode\n",
    "response = tokenizer.batch_decode(generated_ids, skip_special_tokens=True)[0]\n",
    "\n",
    "response"
   ]
  }
 ],
 "metadata": {
  "kernelspec": {
   "display_name": "nlpasm",
   "language": "python",
   "name": "python3"
  },
  "language_info": {
   "codemirror_mode": {
    "name": "ipython",
    "version": 3
   },
   "file_extension": ".py",
   "mimetype": "text/x-python",
   "name": "python",
   "nbconvert_exporter": "python",
   "pygments_lexer": "ipython3",
   "version": "3.10.15"
  }
 },
 "nbformat": 4,
 "nbformat_minor": 2
}
